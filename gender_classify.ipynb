{
 "cells": [
  {
   "cell_type": "code",
   "execution_count": 1,
   "metadata": {},
   "outputs": [],
   "source": [
    "import tensorflow as tf\n",
    "from tensorflow.keras.optimizers import RMSprop\n",
    "from tensorflow.keras.preprocessing.image import ImageDataGenerator"
   ]
  },
  {
   "cell_type": "code",
   "execution_count": 2,
   "metadata": {},
   "outputs": [],
   "source": [
    "train_path=r\"C:\\Users\\Aniruddh Srivatsa\\Pictures\\gen\\train\"\n",
    "validation_path=r\"C:\\Users\\Aniruddh Srivatsa\\Pictures\\gen\\validation\"\n",
    "test_path=r\"C:\\Users\\Aniruddh Srivatsa\\Pictures\\gen\\test\""
   ]
  },
  {
   "cell_type": "code",
   "execution_count": 3,
   "metadata": {},
   "outputs": [],
   "source": [
    "train_datagen = ImageDataGenerator(\n",
    "      rescale=1./255,\n",
    "      rotation_range=40,\n",
    "      width_shift_range=0.2,\n",
    "      height_shift_range=0.2,\n",
    "      shear_range=0.2,\n",
    "      zoom_range=0.2,\n",
    "      horizontal_flip=True,\n",
    "      fill_mode='nearest')\n",
    "\n",
    "validation_datagen = ImageDataGenerator(rescale=1./255)\n",
    "test_datagen = ImageDataGenerator(rescale=1./255)"
   ]
  },
  {
   "cell_type": "code",
   "execution_count": 4,
   "metadata": {},
   "outputs": [],
   "source": [
    "IMG_SIZE=80"
   ]
  },
  {
   "cell_type": "code",
   "execution_count": 5,
   "metadata": {},
   "outputs": [
    {
     "name": "stdout",
     "output_type": "stream",
     "text": [
      "Found 1278 images belonging to 2 classes.\n",
      "Found 246 images belonging to 2 classes.\n"
     ]
    }
   ],
   "source": [
    "train_generator = train_datagen.flow_from_directory(\n",
    "        train_path,  # This is the source directory for training images\n",
    "        target_size=(IMG_SIZE,IMG_SIZE),  # All images will be resized to 120x120\n",
    "        \n",
    "        \n",
    "        class_mode='binary')\n",
    "\n",
    "# Flow validation images in batches of 20 using test_datagen generator\n",
    "validation_generator = validation_datagen.flow_from_directory(\n",
    "        validation_path,\n",
    "        target_size=(IMG_SIZE,IMG_SIZE),\n",
    "       \n",
    "        class_mode='binary')"
   ]
  },
  {
   "cell_type": "code",
   "execution_count": 19,
   "metadata": {},
   "outputs": [],
   "source": [
    "from tensorflow.keras.models import Sequential\n",
    "from tensorflow.keras.layers import BatchNormalization, Conv2D, MaxPooling2D, Activation, Flatten, Dropout, Dense\n",
    "    \n",
    "from tensorflow.keras.models import Sequential\n",
    "from tensorflow.keras.layers import Dense,Activation,Flatten,Dropout\n",
    "from tensorflow.keras.layers import Conv2D,MaxPooling2D\n",
    "\n",
    "\n",
    "model=Sequential()\n",
    "\n",
    "model.add(Conv2D(32,(3,3),activation=\"relu\",input_shape=(IMG_SIZE,IMG_SIZE,3)))\n",
    "\n",
    "model.add(MaxPooling2D((2,2)))\n",
    "model.add(Conv2D(32,(3,3),activation=\"relu\"))\n",
    "model.add(MaxPooling2D((2,2)))\n",
    "\n",
    "model.add(Conv2D(32,(3,3),activation=\"relu\"))\n",
    "model.add(MaxPooling2D((2,2)))\n",
    "\n",
    "\n",
    "model.add(Flatten())\n",
    "\n",
    "model.add(Dense(64,activation='relu'))\n",
    "\n",
    "model.add(Dense(2,activation='softmax'))\n",
    "\n",
    "\n",
    "model.compile(loss='sparse_categorical_crossentropy',optimizer='adam',metrics=['accuracy'])"
   ]
  },
  {
   "cell_type": "code",
   "execution_count": 20,
   "metadata": {},
   "outputs": [
    {
     "name": "stdout",
     "output_type": "stream",
     "text": [
      "Model: \"sequential_3\"\n",
      "_________________________________________________________________\n",
      "Layer (type)                 Output Shape              Param #   \n",
      "=================================================================\n",
      "conv2d_9 (Conv2D)            (None, 78, 78, 32)        896       \n",
      "_________________________________________________________________\n",
      "max_pooling2d_9 (MaxPooling2 (None, 39, 39, 32)        0         \n",
      "_________________________________________________________________\n",
      "conv2d_10 (Conv2D)           (None, 37, 37, 32)        9248      \n",
      "_________________________________________________________________\n",
      "max_pooling2d_10 (MaxPooling (None, 18, 18, 32)        0         \n",
      "_________________________________________________________________\n",
      "conv2d_11 (Conv2D)           (None, 16, 16, 32)        9248      \n",
      "_________________________________________________________________\n",
      "max_pooling2d_11 (MaxPooling (None, 8, 8, 32)          0         \n",
      "_________________________________________________________________\n",
      "flatten_3 (Flatten)          (None, 2048)              0         \n",
      "_________________________________________________________________\n",
      "dense_6 (Dense)              (None, 64)                131136    \n",
      "_________________________________________________________________\n",
      "dense_7 (Dense)              (None, 2)                 130       \n",
      "=================================================================\n",
      "Total params: 150,658\n",
      "Trainable params: 150,658\n",
      "Non-trainable params: 0\n",
      "_________________________________________________________________\n"
     ]
    }
   ],
   "source": [
    "model.summary()"
   ]
  },
  {
   "cell_type": "code",
   "execution_count": 21,
   "metadata": {},
   "outputs": [],
   "source": [
    "from tensorflow.keras.callbacks import EarlyStopping"
   ]
  },
  {
   "cell_type": "code",
   "execution_count": 22,
   "metadata": {},
   "outputs": [],
   "source": [
    "callbacks=EarlyStopping(patience=4,monitor=\"val_loss\")"
   ]
  },
  {
   "cell_type": "code",
   "execution_count": null,
   "metadata": {},
   "outputs": [],
   "source": []
  },
  {
   "cell_type": "code",
   "execution_count": 23,
   "metadata": {},
   "outputs": [
    {
     "name": "stdout",
     "output_type": "stream",
     "text": [
      "WARNING:tensorflow:sample_weight modes were coerced from\n",
      "  ...\n",
      "    to  \n",
      "  ['...']\n",
      "WARNING:tensorflow:sample_weight modes were coerced from\n",
      "  ...\n",
      "    to  \n",
      "  ['...']\n",
      "Train for 40 steps, validate for 8 steps\n",
      "Epoch 1/20\n",
      "40/40 [==============================] - 11s 279ms/step - loss: 0.6830 - accuracy: 0.5642 - val_loss: 0.6557 - val_accuracy: 0.6667\n",
      "Epoch 2/20\n",
      "40/40 [==============================] - 10s 248ms/step - loss: 0.6460 - accuracy: 0.6041 - val_loss: 0.6033 - val_accuracy: 0.6667\n",
      "Epoch 3/20\n",
      "40/40 [==============================] - 10s 247ms/step - loss: 0.6003 - accuracy: 0.6745 - val_loss: 0.6026 - val_accuracy: 0.7114\n",
      "Epoch 4/20\n",
      "40/40 [==============================] - 10s 244ms/step - loss: 0.5616 - accuracy: 0.7113 - val_loss: 0.5194 - val_accuracy: 0.7439\n",
      "Epoch 5/20\n",
      "40/40 [==============================] - 10s 244ms/step - loss: 0.5588 - accuracy: 0.7128 - val_loss: 0.4627 - val_accuracy: 0.8008\n",
      "Epoch 6/20\n",
      "40/40 [==============================] - 9s 234ms/step - loss: 0.4923 - accuracy: 0.7668 - val_loss: 0.4068 - val_accuracy: 0.8293\n",
      "Epoch 7/20\n",
      "40/40 [==============================] - 9s 235ms/step - loss: 0.4751 - accuracy: 0.7637 - val_loss: 0.4851 - val_accuracy: 0.7764\n",
      "Epoch 8/20\n",
      "40/40 [==============================] - 10s 238ms/step - loss: 0.4967 - accuracy: 0.7574 - val_loss: 0.4118 - val_accuracy: 0.8171\n",
      "Epoch 9/20\n",
      "40/40 [==============================] - 10s 239ms/step - loss: 0.4485 - accuracy: 0.7958 - val_loss: 0.4201 - val_accuracy: 0.8455\n",
      "Epoch 10/20\n",
      "40/40 [==============================] - 10s 243ms/step - loss: 0.3990 - accuracy: 0.8208 - val_loss: 0.4051 - val_accuracy: 0.8008\n",
      "Epoch 11/20\n",
      "40/40 [==============================] - 9s 236ms/step - loss: 0.4396 - accuracy: 0.7934 - val_loss: 0.4067 - val_accuracy: 0.8333\n",
      "Epoch 12/20\n",
      "40/40 [==============================] - 10s 238ms/step - loss: 0.4233 - accuracy: 0.8091 - val_loss: 0.3772 - val_accuracy: 0.8293\n",
      "Epoch 13/20\n",
      "40/40 [==============================] - 10s 242ms/step - loss: 0.4256 - accuracy: 0.7903 - val_loss: 0.3926 - val_accuracy: 0.8415\n",
      "Epoch 14/20\n",
      "40/40 [==============================] - 9s 237ms/step - loss: 0.4348 - accuracy: 0.7981 - val_loss: 0.3390 - val_accuracy: 0.8618\n",
      "Epoch 15/20\n",
      "40/40 [==============================] - 10s 241ms/step - loss: 0.4070 - accuracy: 0.8138 - val_loss: 0.4042 - val_accuracy: 0.8211\n",
      "Epoch 16/20\n",
      "40/40 [==============================] - 9s 237ms/step - loss: 0.4216 - accuracy: 0.8130 - val_loss: 0.3683 - val_accuracy: 0.8659\n",
      "Epoch 17/20\n",
      "40/40 [==============================] - 10s 238ms/step - loss: 0.4094 - accuracy: 0.8146 - val_loss: 0.3649 - val_accuracy: 0.8821\n",
      "Epoch 18/20\n",
      "40/40 [==============================] - 10s 239ms/step - loss: 0.4167 - accuracy: 0.8059 - val_loss: 0.3482 - val_accuracy: 0.8659\n"
     ]
    }
   ],
   "source": [
    "history=model.fit(train_generator,\n",
    "          validation_data=validation_generator,\n",
    "          epochs=20,callbacks=[callbacks])"
   ]
  },
  {
   "cell_type": "code",
   "execution_count": 24,
   "metadata": {},
   "outputs": [
    {
     "name": "stdout",
     "output_type": "stream",
     "text": [
      "Found 20 images belonging to 1 classes.\n"
     ]
    }
   ],
   "source": [
    "test_generator=test_datagen.flow_from_directory(test_path,\n",
    "        target_size=(IMG_SIZE,IMG_SIZE),\n",
    "       \n",
    "        class_mode='binary')"
   ]
  },
  {
   "cell_type": "code",
   "execution_count": 25,
   "metadata": {},
   "outputs": [
    {
     "name": "stdout",
     "output_type": "stream",
     "text": [
      "WARNING:tensorflow:sample_weight modes were coerced from\n",
      "  ...\n",
      "    to  \n",
      "  ['...']\n"
     ]
    },
    {
     "data": {
      "text/plain": [
       "[0.3482283055782318, 0.86585367]"
      ]
     },
     "execution_count": 25,
     "metadata": {},
     "output_type": "execute_result"
    }
   ],
   "source": [
    "model.evaluate_generator(validation_generator)"
   ]
  },
  {
   "cell_type": "code",
   "execution_count": 26,
   "metadata": {},
   "outputs": [
    {
     "name": "stdout",
     "output_type": "stream",
     "text": [
      "WARNING:tensorflow:From <ipython-input-26-0c180adaf40a>:1: Model.predict_generator (from tensorflow.python.keras.engine.training) is deprecated and will be removed in a future version.\n",
      "Instructions for updating:\n",
      "Please use Model.predict, which supports generators.\n"
     ]
    },
    {
     "data": {
      "text/plain": [
       "array([[0.143277  , 0.856723  ],\n",
       "       [0.9509247 , 0.0490753 ],\n",
       "       [0.17298436, 0.82701564],\n",
       "       [0.8056073 , 0.19439274],\n",
       "       [0.99568814, 0.00431183],\n",
       "       [0.9852084 , 0.01479163],\n",
       "       [0.06424385, 0.9357562 ],\n",
       "       [0.00417896, 0.995821  ],\n",
       "       [0.00578025, 0.9942198 ],\n",
       "       [0.11286515, 0.8871349 ],\n",
       "       [0.73313355, 0.26686645],\n",
       "       [0.03051291, 0.9694871 ],\n",
       "       [0.59193295, 0.40806705],\n",
       "       [0.9587457 , 0.04125425],\n",
       "       [0.9975368 , 0.00246323],\n",
       "       [0.96623236, 0.03376759],\n",
       "       [0.21738015, 0.78261983],\n",
       "       [0.859519  , 0.14048097],\n",
       "       [0.8805004 , 0.11949959],\n",
       "       [0.14499931, 0.8550008 ]], dtype=float32)"
      ]
     },
     "execution_count": 26,
     "metadata": {},
     "output_type": "execute_result"
    }
   ],
   "source": [
    "model.predict_generator(test_generator)"
   ]
  },
  {
   "cell_type": "code",
   "execution_count": 27,
   "metadata": {},
   "outputs": [
    {
     "data": {
      "image/png": "[encoded data removed]",
      "text/plain": [
       "<Figure size 432x288 with 1 Axes>"
      ]
     },
     "metadata": {
      "needs_background": "light"
     },
     "output_type": "display_data"
    }
   ],
   "source": [
    "import numpy as np\n",
    "import matplotlib.pyplot as plt\n",
    "\n",
    "acc=history.history[\"accuracy\"]\n",
    "val_acc=history.history[\"val_accuracy\"]\n",
    "epochs=range(len(acc))\n",
    "plt.xlabel(\"no_of_epochs\")\n",
    "plt.ylabel(\"Accuracy\")\n",
    "plt.plot(epochs,acc,label=\"accuracy\")\n",
    "plt.plot(epochs,val_acc,label=\"val_accuracy\")\n",
    "plt.title(\"ACCURACY\")\n",
    "plt.legend();"
   ]
  },
  {
   "cell_type": "code",
   "execution_count": 28,
   "metadata": {},
   "outputs": [
    {
     "data": {
      "image/png": "[encoded data removed]",
      "text/plain": [
       "<Figure size 432x288 with 1 Axes>"
      ]
     },
     "metadata": {
      "needs_background": "light"
     },
     "output_type": "display_data"
    }
   ],
   "source": [
    "loss=history.history[\"loss\"]\n",
    "val_loss=history.history[\"val_loss\"]\n",
    "epochs=range(len(acc))\n",
    "plt.xlabel(\"no_of_epochs\")\n",
    "plt.ylabel(\"Loss\")\n",
    "plt.plot(epochs,loss,label=\"loss\")\n",
    "plt.plot(epochs,val_loss,label=\"val_loss\")\n",
    "plt.title(\"LOSS\")\n",
    "plt.legend();"
   ]
  },
  {
   "cell_type": "code",
   "execution_count": 29,
   "metadata": {},
   "outputs": [],
   "source": [
    "from tensorflow.keras.models import load_model\n",
    "model.save(r\"C:\\Users\\Aniruddh Srivatsa\\Downloads\\gender_class.h5\")"
   ]
  },
  {
   "cell_type": "code",
   "execution_count": 30,
   "metadata": {},
   "outputs": [
    {
     "name": "stdout",
     "output_type": "stream",
     "text": [
      "WARNING:tensorflow:sample_weight modes were coerced from\n",
      "  ...\n",
      "    to  \n",
      "  ['...']\n",
      "0.3482283055782318 0.86585367\n"
     ]
    }
   ],
   "source": [
    "from tensorflow.keras.models import load_model\n",
    "loaded_model = load_model(r\"C:\\Users\\Aniruddh Srivatsa\\Downloads\\gender_class.h5\") \n",
    "loss, accuracy = loaded_model.evaluate_generator(validation_generator) \n",
    "print(loss,accuracy)"
   ]
  },
  {
   "cell_type": "code",
   "execution_count": 3,
   "metadata": {},
   "outputs": [
    {
     "name": "stdout",
     "output_type": "stream",
     "text": [
      "Note: you may need to restart the kernel to use updated packages.\n"
     ]
    },
    {
     "name": "stderr",
     "output_type": "stream",
     "text": [
      "'C:\\Users\\Aniruddh' is not recognized as an internal or external command,\n",
      "operable program or batch file.\n"
     ]
    }
   ],
   "source": [
    "pip install cvlib"
   ]
  },
  {
   "cell_type": "code",
   "execution_count": 33,
   "metadata": {},
   "outputs": [
    {
     "name": "stdout",
     "output_type": "stream",
     "text": [
      "label:  man: 98.12% probability:  [0.98122233 0.01877765]\n",
      "label:  man: 98.44% probability:  [0.98440856 0.01559147]\n",
      "label:  man: 98.85% probability:  [0.98853546 0.0114645 ]\n",
      "label:  man: 97.75% probability:  [0.9775204  0.02247956]\n",
      "label:  man: 98.69% probability:  [0.98690623 0.01309374]\n",
      "label:  man: 98.84% probability:  [0.9883918 0.0116082]\n",
      "label:  man: 97.31% probability:  [0.97312295 0.02687706]\n",
      "label:  man: 98.44% probability:  [0.9844281  0.01557191]\n",
      "label:  man: 98.41% probability:  [0.9841388  0.01586117]\n",
      "label:  man: 98.09% probability:  [0.98085314 0.01914686]\n",
      "label:  man: 98.94% probability:  [0.98936814 0.01063181]\n",
      "label:  man: 98.89% probability:  [0.988927   0.01107296]\n",
      "label:  man: 98.48% probability:  [0.98475283 0.01524718]\n",
      "label:  man: 89.75% probability:  [0.8975468  0.10245322]\n",
      "label:  man: 87.85% probability:  [0.87853044 0.12146962]\n",
      "label:  man: 95.78% probability:  [0.9577653  0.04223476]\n",
      "label:  man: 95.20% probability:  [0.95195764 0.04804236]\n",
      "label:  man: 96.44% probability:  [0.9643772  0.03562279]\n",
      "label:  man: 96.66% probability:  [0.9665876  0.03341237]\n",
      "label:  man: 95.01% probability:  [0.9501221  0.04987785]\n",
      "label:  man: 97.05% probability:  [0.97046083 0.02953914]\n",
      "label:  man: 90.61% probability:  [0.9060974  0.09390264]\n",
      "label:  man: 95.66% probability:  [0.95658004 0.04341995]\n",
      "label:  man: 95.35% probability:  [0.95352626 0.04647376]\n",
      "label:  man: 98.09% probability:  [0.9808669  0.01913306]\n",
      "label:  man: 98.34% probability:  [0.9834258  0.01657418]\n",
      "label:  man: 98.53% probability:  [0.9852691  0.01473083]\n",
      "label:  man: 99.01% probability:  [0.990099   0.00990094]\n",
      "label:  man: 98.89% probability:  [0.98888075 0.0111193 ]\n",
      "label:  man: 98.97% probability:  [0.9896966  0.01030339]\n",
      "label:  man: 98.86% probability:  [0.9886302  0.01136988]\n",
      "label:  man: 98.78% probability:  [0.9877787  0.01222127]\n",
      "label:  man: 93.69% probability:  [0.9369315  0.06306848]\n",
      "label:  man: 92.44% probability:  [0.9243949  0.07560508]\n",
      "label:  man: 94.59% probability:  [0.94591653 0.0540835 ]\n",
      "label:  man: 97.67% probability:  [0.9767289  0.02327106]\n",
      "label:  man: 98.22% probability:  [0.98219645 0.01780349]\n",
      "label:  man: 98.60% probability:  [0.9860351  0.01396491]\n",
      "label:  man: 98.49% probability:  [0.9848682  0.01513185]\n",
      "label:  man: 98.68% probability:  [0.9868324  0.01316764]\n",
      "label:  man: 98.45% probability:  [0.9844525  0.01554749]\n",
      "label:  man: 98.35% probability:  [0.98349243 0.01650762]\n",
      "label:  man: 98.63% probability:  [0.9863012  0.01369882]\n",
      "label:  man: 98.49% probability:  [0.98490185 0.01509815]\n"
     ]
    }
   ],
   "source": [
    "from tensorflow.keras.preprocessing.image import img_to_array\n",
    "from tensorflow.keras.models import load_model\n",
    "import numpy as np\n",
    "\n",
    "import cv2\n",
    "import os\n",
    "import cvlib as cv\n",
    "                    \n",
    "\n",
    "# open webcam\n",
    "webcam = cv2.VideoCapture(0)\n",
    "    \n",
    "classes = ['man','woman']\n",
    "\n",
    "# loop through frames\n",
    "while webcam.isOpened():\n",
    "\n",
    "    # read frame from webcam \n",
    "    status, frame = webcam.read()\n",
    "\n",
    "    # apply face detection\n",
    "    face, confidence = cv.detect_face(frame)\n",
    "\n",
    "\n",
    "    # loop through detected faces\n",
    "    for idx, f in enumerate(face):\n",
    "\n",
    "        # get corner points of face rectangle        \n",
    "        (startX, startY) = f[0], f[1]\n",
    "        (endX, endY) = f[2], f[3]\n",
    "\n",
    "        # draw rectangle over face\n",
    "        cv2.rectangle(frame, (startX+10,startY+10), (endX+10,endY+10), (0,255,0), 2)\n",
    "\n",
    "        # crop the detected face region\n",
    "        face_crop = np.copy(frame[startY+22:endY+22,startX+22:endX+22])\n",
    "\n",
    "        if (face_crop.shape[0]) < 10 or (face_crop.shape[1]) < 10:\n",
    "            continue\n",
    "\n",
    "        # preprocessing for gender detection model\n",
    "        face_crop = cv2.resize(face_crop, (80,80))\n",
    "        face_crop = face_crop.astype(\"float\") / 255.0\n",
    "        face_crop = img_to_array(face_crop)\n",
    "        face_crop = np.expand_dims(face_crop, axis=0)\n",
    "\n",
    "        # apply gender detection on face\n",
    "        conf = loaded_model.predict(face_crop)[0] # model.predict return a 2D matrix, ex: [[9.9993384e-01 7.4850512e-05]]\n",
    "\n",
    "        # get label with max accuracy\n",
    "        idx = np.argmax(conf)\n",
    "        label = classes[idx]\n",
    "\n",
    "        label = \"{}: {:.2f}%\".format(label, conf[idx] * 100)\n",
    "\n",
    "        Y = startY - 10 if startY - 10 > 10 else startY + 10\n",
    "\n",
    "        # write label and confidence above face rectangle\n",
    "        cv2.putText(frame, label, (startX, Y),  cv2.FONT_HERSHEY_SIMPLEX,\n",
    "                    0.7, (0, 255, 0), 2)\n",
    "        print(\"label: \",label,\"probability: \", loaded_model.predict(face_crop)[0])\n",
    "    # display output\n",
    "    cv2.imshow(\"gender detection\", frame)\n",
    "\n",
    "    # press \"Q\" to stop\n",
    "    if cv2.waitKey(1) & 0xFF == ord('q'):\n",
    "        break\n",
    "\n",
    "# release resources\n",
    "webcam.release()\n",
    "cv2.destroyAllWindows()"
   ]
  },
  {
   "cell_type": "code",
   "execution_count": null,
   "metadata": {},
   "outputs": [],
   "source": []
  }
 ],
 "metadata": {
  "kernelspec": {
   "display_name": "Python 3",
   "language": "python",
   "name": "python3"
  },
  "language_info": {
   "codemirror_mode": {
    "name": "ipython",
    "version": 3
   },
   "file_extension": ".py",
   "mimetype": "text/x-python",
   "name": "python",
   "nbconvert_exporter": "python",
   "pygments_lexer": "ipython3",
   "version": "3.7.9"
  }
 },
 "nbformat": 4,
 "nbformat_minor": 4
}
