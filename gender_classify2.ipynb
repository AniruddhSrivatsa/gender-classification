{
 "cells": [
  {
   "cell_type": "code",
   "execution_count": 41,
   "metadata": {},
   "outputs": [],
   "source": [
    "import tensorflow as tf\n",
    "from tensorflow.keras.optimizers import RMSprop\n",
    "from tensorflow.keras.preprocessing.image import ImageDataGenerator"
   ]
  },
  {
   "cell_type": "code",
   "execution_count": 42,
   "metadata": {},
   "outputs": [],
   "source": [
    "train_path=r\"C:\\Users\\Aniruddh Srivatsa\\Pictures\\gen\\train\"\n",
    "validation_path=r\"C:\\Users\\Aniruddh Srivatsa\\Pictures\\gen\\validation\"\n",
    "test_path=r\"C:\\Users\\Aniruddh Srivatsa\\Pictures\\gen\\test\""
   ]
  },
  {
   "cell_type": "code",
   "execution_count": 43,
   "metadata": {},
   "outputs": [],
   "source": [
    "train_datagen = ImageDataGenerator(\n",
    "      rescale=1./255,\n",
    "      rotation_range=40,\n",
    "      width_shift_range=0.2,\n",
    "      height_shift_range=0.2,\n",
    "      shear_range=0.2,\n",
    "      zoom_range=0.2,\n",
    "      horizontal_flip=True,\n",
    "      fill_mode='nearest')\n",
    "\n",
    "validation_datagen = ImageDataGenerator(rescale=1./255)\n",
    "test_datagen = ImageDataGenerator(rescale=1./255)"
   ]
  },
  {
   "cell_type": "code",
   "execution_count": 44,
   "metadata": {},
   "outputs": [],
   "source": [
    "IMG_SIZE=80"
   ]
  },
  {
   "cell_type": "code",
   "execution_count": 45,
   "metadata": {},
   "outputs": [
    {
     "name": "stdout",
     "output_type": "stream",
     "text": [
      "Found 1278 images belonging to 2 classes.\n",
      "Found 246 images belonging to 2 classes.\n"
     ]
    }
   ],
   "source": [
    "train_generator = train_datagen.flow_from_directory(\n",
    "        train_path,  # This is the source directory for training images\n",
    "        target_size=(IMG_SIZE,IMG_SIZE), \n",
    "        batch_size=32,\n",
    "        class_mode='binary')\n",
    "\n",
    "\n",
    "validation_generator = validation_datagen.flow_from_directory(\n",
    "        validation_path,\n",
    "        target_size=(IMG_SIZE,IMG_SIZE),\n",
    "        batch_size=32,\n",
    "        class_mode='binary')"
   ]
  },
  {
   "cell_type": "code",
   "execution_count": 24,
   "metadata": {},
   "outputs": [],
   "source": [
    "from tensorflow.keras.models import Sequential\n",
    "from tensorflow.keras.layers import BatchNormalization, Conv2D, MaxPooling2D, Activation, Flatten, Dropout, Dense\n",
    "    \n",
    "from tensorflow.keras.models import Sequential\n",
    "from tensorflow.keras.layers import Dense,Activation,Flatten,Dropout\n",
    "from tensorflow.keras.layers import Conv2D,MaxPooling2D\n",
    "\n",
    "\n",
    "model=Sequential()\n",
    "\n",
    "model.add(Conv2D(32,(3,3),activation=\"relu\",input_shape=(IMG_SIZE,IMG_SIZE,3)))\n",
    "\n",
    "model.add(MaxPooling2D((2,2)))\n",
    "model.add(Conv2D(32,(3,3),activation=\"relu\"))\n",
    "model.add(MaxPooling2D((2,2)))\n",
    "\n",
    "model.add(Conv2D(32,(3,3),activation=\"relu\"))\n",
    "model.add(MaxPooling2D((2,2)))\n",
    "\n",
    "\n",
    "model.add(Flatten())\n",
    "\n",
    "model.add(Dense(64,activation='relu'))\n",
    "\n",
    "model.add(Dense(2,activation='softmax'))\n",
    "\n",
    "\n",
    "model.compile(loss='sparse_categorical_crossentropy',optimizer='adam',metrics=['accuracy'])"
   ]
  },
  {
   "cell_type": "code",
   "execution_count": 25,
   "metadata": {},
   "outputs": [
    {
     "name": "stdout",
     "output_type": "stream",
     "text": [
      "Model: \"sequential_2\"\n",
      "_________________________________________________________________\n",
      "Layer (type)                 Output Shape              Param #   \n",
      "=================================================================\n",
      "conv2d_6 (Conv2D)            (None, 78, 78, 32)        896       \n",
      "_________________________________________________________________\n",
      "max_pooling2d_6 (MaxPooling2 (None, 39, 39, 32)        0         \n",
      "_________________________________________________________________\n",
      "conv2d_7 (Conv2D)            (None, 37, 37, 32)        9248      \n",
      "_________________________________________________________________\n",
      "max_pooling2d_7 (MaxPooling2 (None, 18, 18, 32)        0         \n",
      "_________________________________________________________________\n",
      "conv2d_8 (Conv2D)            (None, 16, 16, 32)        9248      \n",
      "_________________________________________________________________\n",
      "max_pooling2d_8 (MaxPooling2 (None, 8, 8, 32)          0         \n",
      "_________________________________________________________________\n",
      "flatten_2 (Flatten)          (None, 2048)              0         \n",
      "_________________________________________________________________\n",
      "dense_4 (Dense)              (None, 64)                131136    \n",
      "_________________________________________________________________\n",
      "dense_5 (Dense)              (None, 2)                 130       \n",
      "=================================================================\n",
      "Total params: 150,658\n",
      "Trainable params: 150,658\n",
      "Non-trainable params: 0\n",
      "_________________________________________________________________\n"
     ]
    }
   ],
   "source": [
    "model.summary()"
   ]
  },
  {
   "cell_type": "code",
   "execution_count": 26,
   "metadata": {},
   "outputs": [],
   "source": [
    "from tensorflow.keras.callbacks import EarlyStopping"
   ]
  },
  {
   "cell_type": "code",
   "execution_count": 27,
   "metadata": {},
   "outputs": [],
   "source": [
    "callbacks=EarlyStopping(patience=4,monitor=\"val_loss\")"
   ]
  },
  {
   "cell_type": "code",
   "execution_count": null,
   "metadata": {},
   "outputs": [],
   "source": []
  },
  {
   "cell_type": "code",
   "execution_count": 28,
   "metadata": {},
   "outputs": [
    {
     "name": "stdout",
     "output_type": "stream",
     "text": [
      "WARNING:tensorflow:sample_weight modes were coerced from\n",
      "  ...\n",
      "    to  \n",
      "  ['...']\n",
      "WARNING:tensorflow:sample_weight modes were coerced from\n",
      "  ...\n",
      "    to  \n",
      "  ['...']\n",
      "Train for 40 steps, validate for 8 steps\n",
      "Epoch 1/20\n",
      "40/40 [==============================] - 10s 261ms/step - loss: 0.6968 - accuracy: 0.5149 - val_loss: 0.6877 - val_accuracy: 0.5163\n",
      "Epoch 2/20\n",
      "40/40 [==============================] - 10s 246ms/step - loss: 0.6601 - accuracy: 0.5986 - val_loss: 0.5893 - val_accuracy: 0.6667\n",
      "Epoch 3/20\n",
      "40/40 [==============================] - 10s 239ms/step - loss: 0.5479 - accuracy: 0.7324 - val_loss: 0.4376 - val_accuracy: 0.8496\n",
      "Epoch 4/20\n",
      "40/40 [==============================] - 10s 242ms/step - loss: 0.5217 - accuracy: 0.7465 - val_loss: 0.4389 - val_accuracy: 0.8089\n",
      "Epoch 5/20\n",
      "40/40 [==============================] - 9s 237ms/step - loss: 0.4840 - accuracy: 0.7739 - val_loss: 0.4091 - val_accuracy: 0.8008\n",
      "Epoch 6/20\n",
      "40/40 [==============================] - 10s 242ms/step - loss: 0.4803 - accuracy: 0.7700 - val_loss: 0.3860 - val_accuracy: 0.8537\n",
      "Epoch 7/20\n",
      "40/40 [==============================] - 9s 236ms/step - loss: 0.4480 - accuracy: 0.7864 - val_loss: 0.4421 - val_accuracy: 0.8211\n",
      "Epoch 8/20\n",
      "40/40 [==============================] - 10s 238ms/step - loss: 0.4797 - accuracy: 0.7700 - val_loss: 0.4591 - val_accuracy: 0.7602\n",
      "Epoch 9/20\n",
      "40/40 [==============================] - 9s 237ms/step - loss: 0.4689 - accuracy: 0.7715 - val_loss: 0.3708 - val_accuracy: 0.8496\n",
      "Epoch 10/20\n",
      "40/40 [==============================] - 10s 241ms/step - loss: 0.4131 - accuracy: 0.8232 - val_loss: 0.3532 - val_accuracy: 0.8577\n",
      "Epoch 11/20\n",
      "40/40 [==============================] - 9s 237ms/step - loss: 0.4768 - accuracy: 0.7731 - val_loss: 0.4281 - val_accuracy: 0.8130\n",
      "Epoch 12/20\n",
      "40/40 [==============================] - 10s 241ms/step - loss: 0.4477 - accuracy: 0.7879 - val_loss: 0.3687 - val_accuracy: 0.8455\n",
      "Epoch 13/20\n",
      "40/40 [==============================] - 9s 237ms/step - loss: 0.4016 - accuracy: 0.8224 - val_loss: 0.3512 - val_accuracy: 0.8496\n",
      "Epoch 14/20\n",
      "40/40 [==============================] - 10s 239ms/step - loss: 0.4159 - accuracy: 0.8067 - val_loss: 0.3360 - val_accuracy: 0.8577\n",
      "Epoch 15/20\n",
      "40/40 [==============================] - 9s 235ms/step - loss: 0.4085 - accuracy: 0.8036 - val_loss: 0.3744 - val_accuracy: 0.8211\n",
      "Epoch 16/20\n",
      "40/40 [==============================] - 10s 240ms/step - loss: 0.3933 - accuracy: 0.8247 - val_loss: 0.3481 - val_accuracy: 0.8699\n",
      "Epoch 17/20\n",
      "40/40 [==============================] - 10s 239ms/step - loss: 0.4205 - accuracy: 0.8020 - val_loss: 0.3452 - val_accuracy: 0.8455\n",
      "Epoch 18/20\n",
      "40/40 [==============================] - 10s 241ms/step - loss: 0.3938 - accuracy: 0.8263 - val_loss: 0.3427 - val_accuracy: 0.8455\n"
     ]
    }
   ],
   "source": [
    "history=model.fit(train_generator,\n",
    "          validation_data=validation_generator,steps_per_epoch=40,validation_steps=8,\n",
    "          epochs=20,callbacks=[callbacks])"
   ]
  },
  {
   "cell_type": "code",
   "execution_count": 46,
   "metadata": {},
   "outputs": [
    {
     "name": "stdout",
     "output_type": "stream",
     "text": [
      "Found 20 images belonging to 1 classes.\n"
     ]
    }
   ],
   "source": [
    "test_generator=test_datagen.flow_from_directory(test_path,\n",
    "        target_size=(IMG_SIZE,IMG_SIZE),\n",
    "       \n",
    "        class_mode='binary')"
   ]
  },
  {
   "cell_type": "code",
   "execution_count": 50,
   "metadata": {},
   "outputs": [
    {
     "name": "stdout",
     "output_type": "stream",
     "text": [
      "WARNING:tensorflow:sample_weight modes were coerced from\n",
      "  ...\n",
      "    to  \n",
      "  ['...']\n"
     ]
    },
    {
     "data": {
      "text/plain": [
       "[0.341047964990139, 0.8455285]"
      ]
     },
     "execution_count": 50,
     "metadata": {},
     "output_type": "execute_result"
    }
   ],
   "source": [
    "model.evaluate_generator(validation_generator)"
   ]
  },
  {
   "cell_type": "code",
   "execution_count": 31,
   "metadata": {},
   "outputs": [
    {
     "name": "stdout",
     "output_type": "stream",
     "text": [
      "WARNING:tensorflow:From <ipython-input-31-0c180adaf40a>:1: Model.predict_generator (from tensorflow.python.keras.engine.training) is deprecated and will be removed in a future version.\n",
      "Instructions for updating:\n",
      "Please use Model.predict, which supports generators.\n"
     ]
    },
    {
     "data": {
      "text/plain": [
       "array([[9.96728420e-01, 3.27158230e-03],\n",
       "       [9.75205541e-01, 2.47943848e-02],\n",
       "       [2.11101264e-01, 7.88898766e-01],\n",
       "       [2.79055275e-02, 9.72094536e-01],\n",
       "       [7.79219389e-01, 2.20780626e-01],\n",
       "       [7.99414098e-01, 2.00585946e-01],\n",
       "       [9.16310668e-01, 8.36893469e-02],\n",
       "       [1.65542409e-01, 8.34457636e-01],\n",
       "       [1.00984040e-03, 9.98990119e-01],\n",
       "       [9.95931208e-01, 4.06875368e-03],\n",
       "       [1.48216993e-01, 8.51783037e-01],\n",
       "       [4.96634275e-01, 5.03365755e-01],\n",
       "       [2.77340109e-03, 9.97226536e-01],\n",
       "       [9.88447845e-01, 1.15521094e-02],\n",
       "       [9.34630930e-01, 6.53690770e-02],\n",
       "       [3.82019579e-01, 6.17980421e-01],\n",
       "       [1.03995316e-01, 8.96004677e-01],\n",
       "       [6.68395534e-02, 9.33160424e-01],\n",
       "       [9.99537945e-01, 4.62098076e-04],\n",
       "       [9.99925971e-01, 7.40610485e-05]], dtype=float32)"
      ]
     },
     "execution_count": 31,
     "metadata": {},
     "output_type": "execute_result"
    }
   ],
   "source": [
    "model.predict_generator(test_generator)"
   ]
  },
  {
   "cell_type": "code",
   "execution_count": 32,
   "metadata": {},
   "outputs": [
    {
     "data": {
      "image/png": "[encoded data removed]",
      "text/plain": [
       "<Figure size 432x288 with 1 Axes>"
      ]
     },
     "metadata": {
      "needs_background": "light"
     },
     "output_type": "display_data"
    }
   ],
   "source": [
    "import numpy as np\n",
    "import matplotlib.pyplot as plt\n",
    "\n",
    "acc=history.history[\"accuracy\"]\n",
    "val_acc=history.history[\"val_accuracy\"]\n",
    "epochs=range(len(acc))\n",
    "plt.xlabel(\"no_of_epochs\")\n",
    "plt.ylabel(\"Accuracy\")\n",
    "plt.plot(epochs,acc,label=\"accuracy\")\n",
    "plt.plot(epochs,val_acc,label=\"val_accuracy\")\n",
    "plt.title(\"ACCURACY\")\n",
    "plt.legend();"
   ]
  },
  {
   "cell_type": "code",
   "execution_count": 33,
   "metadata": {},
   "outputs": [
    {
     "data": {
      "image/png": "[encoded data removed]",
      "text/plain": [
       "<Figure size 432x288 with 1 Axes>"
      ]
     },
     "metadata": {
      "needs_background": "light"
     },
     "output_type": "display_data"
    }
   ],
   "source": [
    "loss=history.history[\"loss\"]\n",
    "val_loss=history.history[\"val_loss\"]\n",
    "epochs=range(len(acc))\n",
    "plt.xlabel(\"no_of_epochs\")\n",
    "plt.ylabel(\"Loss\")\n",
    "plt.plot(epochs,loss,label=\"loss\")\n",
    "plt.plot(epochs,val_loss,label=\"val_loss\")\n",
    "plt.title(\"LOSS\")\n",
    "plt.legend();"
   ]
  },
  {
   "cell_type": "code",
   "execution_count": 34,
   "metadata": {},
   "outputs": [],
   "source": [
    "from tensorflow.keras.models import load_model\n",
    "model.save(r\"C:\\Users\\Aniruddh Srivatsa\\Downloads\\gender_class.h5\")"
   ]
  },
  {
   "cell_type": "code",
   "execution_count": 49,
   "metadata": {},
   "outputs": [
    {
     "name": "stdout",
     "output_type": "stream",
     "text": [
      "WARNING:tensorflow:From <ipython-input-49-542734a8c7a5>:3: Model.evaluate_generator (from tensorflow.python.keras.engine.training) is deprecated and will be removed in a future version.\n",
      "Instructions for updating:\n",
      "Please use Model.evaluate, which supports generators.\n",
      "WARNING:tensorflow:sample_weight modes were coerced from\n",
      "  ...\n",
      "    to  \n",
      "  ['...']\n",
      "0.341047964990139 0.8455285\n"
     ]
    }
   ],
   "source": [
    "from tensorflow.keras.models import load_model\n",
    "loaded_model = load_model(r\"C:\\Users\\Aniruddh Srivatsa\\Downloads\\gender_class.h5\") \n",
    "loss, accuracy = loaded_model.evaluate_generator(validation_generator) \n",
    "print(loss,accuracy)"
   ]
  },
  {
   "cell_type": "code",
   "execution_count": 36,
   "metadata": {},
   "outputs": [],
   "source": [
    "from sklearn.metrics import precision_recall_fscore_support as prfs"
   ]
  },
  {
   "cell_type": "code",
   "execution_count": 37,
   "metadata": {},
   "outputs": [
    {
     "name": "stdout",
     "output_type": "stream",
     "text": [
      "[0 0 0 0 0 0 0 0 0 0 0 0 0 0 0 0 0 0 0 0 0 0 0 0 0 0 0 0 0 0 0 0 0 0 0 0 0\n",
      " 0 0 0 0 0 0 0 0 0 0 0 0 0 0 0 0 0 0 0 0 0 0 0 0 0 0 0 0 0 0 0 0 0 0 0 0 0\n",
      " 0 0 0 0 0 0 0 0 0 0 0 0 0 0 0 0 0 0 0 0 0 0 0 0 0 0 0 0 0 0 0 0 0 0 0 0 0\n",
      " 0 0 0 0 0 0 0 0 0 0 0 0 1 1 1 1 1 1 1 1 1 1 1 1 1 1 1 1 1 1 1 1 1 1 1 1 1\n",
      " 1 1 1 1 1 1 1 1 1 1 1 1 1 1 1 1 1 1 1 1 1 1 1 1 1 1 1 1 1 1 1 1 1 1 1 1 1\n",
      " 1 1 1 1 1 1 1 1 1 1 1 1 1 1 1 1 1 1 1 1 1 1 1 1 1 1 1 1 1 1 1 1 1 1 1 1 1\n",
      " 1 1 1 1 1 1 1 1 1 1 1 1 1 1 1 1 1 1 1 1 1 1 1 1]\n"
     ]
    }
   ],
   "source": [
    "print(validation_generator.classes)"
   ]
  },
  {
   "cell_type": "code",
   "execution_count": 38,
   "metadata": {},
   "outputs": [
    {
     "data": {
      "text/plain": [
       "array([[0.94622904, 0.05377093],\n",
       "       [0.05560629, 0.9443937 ],\n",
       "       [0.8641362 , 0.13586377],\n",
       "       [0.03535832, 0.9646417 ],\n",
       "       [0.85617214, 0.14382789],\n",
       "       [0.99828535, 0.00171464],\n",
       "       [0.01063592, 0.989364  ],\n",
       "       [0.96235514, 0.03764489],\n",
       "       [0.04187629, 0.95812374],\n",
       "       [0.93899864, 0.06100138],\n",
       "       [0.9975407 , 0.00245929],\n",
       "       [0.7919217 , 0.20807834],\n",
       "       [0.14487422, 0.8551257 ],\n",
       "       [0.01294653, 0.98705345],\n",
       "       [0.9757416 , 0.0242584 ],\n",
       "       [0.13058706, 0.86941296],\n",
       "       [0.98475987, 0.01524018],\n",
       "       [0.09307264, 0.90692735],\n",
       "       [0.6547587 , 0.3452413 ],\n",
       "       [0.00172391, 0.9982761 ],\n",
       "       [0.10303827, 0.8969617 ],\n",
       "       [0.9944307 , 0.00556931],\n",
       "       [0.9755343 , 0.02446561],\n",
       "       [0.00532282, 0.9946772 ],\n",
       "       [0.94167346, 0.05832651],\n",
       "       [0.02375264, 0.9762473 ],\n",
       "       [0.9790001 , 0.02099998],\n",
       "       [0.04644621, 0.9535538 ],\n",
       "       [0.03429572, 0.9657043 ],\n",
       "       [0.12701173, 0.8729883 ]], dtype=float32)"
      ]
     },
     "execution_count": 38,
     "metadata": {},
     "output_type": "execute_result"
    }
   ],
   "source": [
    "y_pred=loaded_model.predict_generator(validation_generator)\n",
    "y_pred[200:230]"
   ]
  },
  {
   "cell_type": "code",
   "execution_count": 39,
   "metadata": {},
   "outputs": [],
   "source": [
    "lab=[\"female\",\"male\"]\n",
    "lab1=[0,1]"
   ]
  },
  {
   "cell_type": "code",
   "execution_count": 40,
   "metadata": {},
   "outputs": [],
   "source": [
    "import numpy as np"
   ]
  },
  {
   "cell_type": "code",
   "execution_count": 41,
   "metadata": {},
   "outputs": [
    {
     "data": {
      "text/plain": [
       "0"
      ]
     },
     "execution_count": 41,
     "metadata": {},
     "output_type": "execute_result"
    }
   ],
   "source": [
    "np.argmax(y_pred[211])"
   ]
  },
  {
   "cell_type": "code",
   "execution_count": 42,
   "metadata": {},
   "outputs": [],
   "source": [
    "result=[]"
   ]
  },
  {
   "cell_type": "code",
   "execution_count": 43,
   "metadata": {},
   "outputs": [
    {
     "data": {
      "text/plain": [
       "[1, 1, 1, 1, 0, 1, 1, 0, 1, 0]"
      ]
     },
     "execution_count": 43,
     "metadata": {},
     "output_type": "execute_result"
    }
   ],
   "source": [
    "for i in range(len(y_pred)):\n",
    "  result.append(lab1[np.argmax(y_pred[i])])\n",
    "result[:10]"
   ]
  },
  {
   "cell_type": "code",
   "execution_count": 44,
   "metadata": {},
   "outputs": [
    {
     "data": {
      "text/plain": [
       "246"
      ]
     },
     "execution_count": 44,
     "metadata": {},
     "output_type": "execute_result"
    }
   ],
   "source": [
    "len(result)"
   ]
  },
  {
   "cell_type": "code",
   "execution_count": 45,
   "metadata": {},
   "outputs": [
    {
     "name": "stdout",
     "output_type": "stream",
     "text": [
      "precision is:  0.5289450682444699\n",
      "recall is:  0.5284552845528455\n",
      "f_score is:  0.526452041154995\n"
     ]
    }
   ],
   "source": [
    "print(\"precision is: \", prfs(validation_generator.classes,result,average=\"macro\")[0])\n",
    "print(\"recall is: \", prfs(validation_generator.classes,result,average=\"macro\")[1])\n",
    "print(\"f_score is: \", prfs(validation_generator.classes,result,average=\"macro\")[2])    "
   ]
  },
  {
   "cell_type": "code",
   "execution_count": 39,
   "metadata": {},
   "outputs": [
    {
     "name": "stdout",
     "output_type": "stream",
     "text": [
      "label:  man: 89.87% probability:  [0.898729   0.10127094]\n",
      "label:  woman: 91.65% probability:  [0.08349144 0.9165086 ]\n",
      "label:  man: 93.35% probability:  [0.9334761  0.06652397]\n",
      "label:  woman: 93.23% probability:  [0.06774236 0.93225765]\n",
      "label:  man: 92.55% probability:  [0.9254574  0.07454261]\n",
      "label:  woman: 91.14% probability:  [0.08858244 0.9114176 ]\n",
      "label:  man: 93.32% probability:  [0.93321717 0.06678285]\n",
      "label:  woman: 91.53% probability:  [0.08469097 0.9153091 ]\n",
      "label:  man: 92.43% probability:  [0.924258   0.07574203]\n",
      "label:  woman: 94.61% probability:  [0.05389464 0.94610536]\n",
      "label:  man: 91.70% probability:  [0.91698533 0.08301465]\n",
      "label:  woman: 85.97% probability:  [0.14026076 0.85973924]\n",
      "label:  man: 92.65% probability:  [0.9265123  0.07348774]\n",
      "label:  woman: 83.54% probability:  [0.16464037 0.8353597 ]\n",
      "label:  man: 93.86% probability:  [0.9385618  0.06143826]\n",
      "label:  woman: 86.96% probability:  [0.13042057 0.8695795 ]\n",
      "label:  man: 93.73% probability:  [0.9373224  0.06267759]\n",
      "label:  woman: 77.68% probability:  [0.22317444 0.7768256 ]\n",
      "label:  man: 93.71% probability:  [0.9370661  0.06293388]\n",
      "label:  woman: 82.42% probability:  [0.17576356 0.8242365 ]\n",
      "label:  man: 94.06% probability:  [0.9405638  0.05943622]\n",
      "label:  woman: 85.74% probability:  [0.14260292 0.8573971 ]\n",
      "label:  man: 93.26% probability:  [0.932575   0.06742496]\n",
      "label:  woman: 87.91% probability:  [0.12091546 0.8790846 ]\n",
      "label:  man: 93.86% probability:  [0.93855894 0.06144106]\n",
      "label:  woman: 85.49% probability:  [0.14505768 0.8549424 ]\n",
      "label:  man: 93.40% probability:  [0.93396735 0.06603262]\n",
      "label:  woman: 83.54% probability:  [0.1646053 0.8353947]\n",
      "label:  man: 92.73% probability:  [0.9273449  0.07265507]\n",
      "label:  woman: 81.49% probability:  [0.18505947 0.8149406 ]\n",
      "label:  man: 91.90% probability:  [0.9189707  0.08102927]\n",
      "label:  woman: 85.85% probability:  [0.14150384 0.8584962 ]\n",
      "label:  man: 92.06% probability:  [0.92063844 0.07936157]\n",
      "label:  woman: 88.87% probability:  [0.11127853 0.88872147]\n",
      "label:  man: 92.31% probability:  [0.923129   0.07687094]\n",
      "label:  woman: 86.77% probability:  [0.13228293 0.8677171 ]\n",
      "label:  man: 91.21% probability:  [0.91209614 0.08790386]\n",
      "label:  woman: 87.87% probability:  [0.12132141 0.87867856]\n",
      "label:  man: 91.71% probability:  [0.91711956 0.08288047]\n",
      "label:  woman: 84.96% probability:  [0.15036824 0.8496318 ]\n",
      "label:  man: 93.26% probability:  [0.9326476  0.06735248]\n",
      "label:  woman: 85.90% probability:  [0.14101142 0.8589886 ]\n",
      "label:  man: 93.62% probability:  [0.9362248  0.06377521]\n",
      "label:  woman: 89.96% probability:  [0.10038529 0.8996147 ]\n",
      "label:  man: 92.96% probability:  [0.9295721 0.0704279]\n",
      "label:  woman: 92.06% probability:  [0.07935252 0.92064744]\n",
      "label:  man: 93.38% probability:  [0.93384594 0.06615411]\n",
      "label:  woman: 91.14% probability:  [0.08857225 0.9114278 ]\n",
      "label:  man: 93.01% probability:  [0.9301143  0.06988571]\n",
      "label:  woman: 92.22% probability:  [0.07782029 0.92217976]\n",
      "label:  man: 93.35% probability:  [0.9334659  0.06653415]\n",
      "label:  woman: 92.83% probability:  [0.07173008 0.9282699 ]\n",
      "label:  man: 93.56% probability:  [0.9355637  0.06443638]\n",
      "label:  woman: 83.96% probability:  [0.1603886 0.8396115]\n",
      "label:  man: 93.57% probability:  [0.93572587 0.06427415]\n",
      "label:  man: 92.55% probability:  [0.92547417 0.07452583]\n",
      "label:  man: 93.79% probability:  [0.9378759 0.0621241]\n",
      "label:  man: 93.61% probability:  [0.93610865 0.06389135]\n",
      "label:  man: 93.66% probability:  [0.93660325 0.0633968 ]\n",
      "label:  man: 93.27% probability:  [0.9326568  0.06734319]\n",
      "label:  woman: 82.95% probability:  [0.17048052 0.8295195 ]\n",
      "label:  man: 93.81% probability:  [0.9381005  0.06189947]\n",
      "label:  woman: 82.67% probability:  [0.17326383 0.82673615]\n",
      "label:  man: 94.47% probability:  [0.9447229  0.05527718]\n",
      "label:  woman: 87.59% probability:  [0.12408023 0.87591976]\n",
      "label:  man: 93.12% probability:  [0.93116164 0.06883837]\n",
      "label:  woman: 94.88% probability:  [0.05120033 0.94879967]\n",
      "label:  man: 93.56% probability:  [0.935574   0.06442603]\n",
      "label:  woman: 94.17% probability:  [0.05831511 0.9416849 ]\n",
      "label:  man: 93.85% probability:  [0.93846035 0.06153968]\n",
      "label:  woman: 95.21% probability:  [0.04789086 0.95210916]\n",
      "label:  man: 94.52% probability:  [0.9452449  0.05475511]\n",
      "label:  woman: 91.91% probability:  [0.08094629 0.9190537 ]\n",
      "label:  man: 94.19% probability:  [0.9419297  0.05807032]\n",
      "label:  woman: 93.45% probability:  [0.0655298 0.9344702]\n",
      "label:  man: 94.19% probability:  [0.94190377 0.05809622]\n",
      "label:  woman: 93.75% probability:  [0.06245807 0.93754196]\n",
      "label:  man: 94.35% probability:  [0.94347334 0.05652672]\n",
      "label:  woman: 94.48% probability:  [0.05520192 0.9447981 ]\n",
      "label:  man: 93.66% probability:  [0.93662864 0.06337132]\n",
      "label:  woman: 93.83% probability:  [0.06174513 0.93825483]\n",
      "label:  man: 94.49% probability:  [0.9449191  0.05508096]\n",
      "label:  woman: 93.42% probability:  [0.0658223 0.9341777]\n",
      "label:  man: 94.17% probability:  [0.94168395 0.05831603]\n",
      "label:  woman: 92.81% probability:  [0.07191435 0.9280857 ]\n",
      "label:  man: 94.32% probability:  [0.94322425 0.05677582]\n",
      "label:  woman: 93.95% probability:  [0.06053761 0.93946236]\n",
      "label:  man: 93.92% probability:  [0.93924034 0.06075969]\n",
      "label:  woman: 94.08% probability:  [0.05915247 0.9408476 ]\n",
      "label:  man: 93.77% probability:  [0.93773973 0.06226022]\n",
      "label:  woman: 93.77% probability:  [0.06228919 0.9377108 ]\n",
      "label:  man: 93.76% probability:  [0.9376062  0.06239383]\n",
      "label:  woman: 92.44% probability:  [0.07559483 0.92440516]\n",
      "label:  man: 93.09% probability:  [0.9309132  0.06908681]\n",
      "label:  woman: 94.86% probability:  [0.05137268 0.94862735]\n",
      "label:  man: 93.96% probability:  [0.9396199  0.06038009]\n",
      "label:  woman: 92.46% probability:  [0.07544905 0.92455095]\n",
      "label:  man: 93.44% probability:  [0.93437266 0.06562737]\n",
      "label:  woman: 93.14% probability:  [0.068607 0.931393]\n",
      "label:  man: 93.46% probability:  [0.93458974 0.06541034]\n",
      "label:  woman: 94.07% probability:  [0.05932579 0.94067425]\n",
      "label:  man: 93.66% probability:  [0.9365965  0.06340345]\n",
      "label:  woman: 92.71% probability:  [0.07287504 0.927125  ]\n",
      "label:  man: 93.50% probability:  [0.935037   0.06496292]\n",
      "label:  woman: 93.07% probability:  [0.0693042  0.93069583]\n",
      "label:  man: 94.14% probability:  [0.9413551  0.05864492]\n",
      "label:  woman: 92.97% probability:  [0.07034093 0.929659  ]\n",
      "label:  man: 93.02% probability:  [0.93015206 0.06984793]\n",
      "label:  woman: 92.20% probability:  [0.07802311 0.9219769 ]\n",
      "label:  man: 93.68% probability:  [0.93684477 0.06315529]\n",
      "label:  woman: 93.30% probability:  [0.06702241 0.9329776 ]\n",
      "label:  man: 94.52% probability:  [0.94523233 0.05476771]\n",
      "label:  woman: 92.85% probability:  [0.0714777 0.9285223]\n",
      "label:  man: 93.72% probability:  [0.9371847 0.0628153]\n",
      "label:  woman: 90.76% probability:  [0.09237465 0.9076253 ]\n",
      "label:  man: 95.46% probability:  [0.9546456  0.04535444]\n",
      "label:  woman: 90.08% probability:  [0.09921017 0.90078986]\n",
      "label:  man: 94.48% probability:  [0.9448045  0.05519551]\n",
      "label:  woman: 88.14% probability:  [0.11864183 0.88135815]\n",
      "label:  man: 94.99% probability:  [0.94994116 0.05005889]\n",
      "label:  woman: 87.37% probability:  [0.12631159 0.8736884 ]\n",
      "label:  man: 94.48% probability:  [0.9447896 0.0552104]\n",
      "label:  woman: 89.39% probability:  [0.10607979 0.89392024]\n"
     ]
    }
   ],
   "source": [
    "from tensorflow.keras.preprocessing.image import img_to_array\n",
    "from tensorflow.keras.models import load_model\n",
    "import numpy as np\n",
    "\n",
    "import cv2\n",
    "import os\n",
    "import cvlib as cv\n",
    "                    \n",
    "\n",
    "# open webcam\n",
    "webcam = cv2.VideoCapture(0)\n",
    "    \n",
    "classes = ['man','woman']\n",
    "\n",
    "# loop through frames\n",
    "while webcam.isOpened():\n",
    "\n",
    "    # read frame from webcam \n",
    "    status, frame = webcam.read()\n",
    "\n",
    "    # apply face detection\n",
    "    face, confidence = cv.detect_face(frame)\n",
    "\n",
    "\n",
    "    # loop through detected faces\n",
    "    for idx, f in enumerate(face):\n",
    "\n",
    "        # get corner points of face rectangle        \n",
    "        (startX, startY) = f[0], f[1]\n",
    "        (endX, endY) = f[2], f[3]\n",
    "\n",
    "        # draw rectangle over face\n",
    "        cv2.rectangle(frame, (startX-10,startY-12), (endX+10,endY+12), (0,255,0), 2)\n",
    "\n",
    "        # crop the detected face region\n",
    "        face_crop = np.copy(frame[startY-12:endY+12,startX-10:endX+10])\n",
    "        \n",
    "        if (face_crop.shape[0]) < 10 or (face_crop.shape[1]) < 10:\n",
    "            continue\n",
    "\n",
    "        # preprocessing for gender detection model\n",
    "        face_crop = cv2.resize(face_crop, (80,80))\n",
    "        face_crop = face_crop.astype(\"float\") / 255.0\n",
    "        face_crop = img_to_array(face_crop)\n",
    "        face_crop = np.expand_dims(face_crop, axis=0)\n",
    "\n",
    "        # apply gender detection on face\n",
    "        conf = loaded_model.predict(face_crop)[0] # model.predict return a 2D matrix, ex: [[9.9993384e-01 7.4850512e-05]]\n",
    "        \n",
    "        # get label with max accuracy\n",
    "        idx = np.argmax(conf)\n",
    "        label = classes[idx]\n",
    "\n",
    "        label = \"{}: {:.2f}%\".format(label, conf[idx] * 100)\n",
    "\n",
    "        Y = startY - 10 if startY - 10 > 10 else startY + 10\n",
    "\n",
    "        # write label and confidence above face rectangle\n",
    "        cv2.putText(frame, label, (startX, Y),  cv2.FONT_HERSHEY_SIMPLEX,\n",
    "                    0.7, (0, 255, 0), 2)\n",
    "        print(\"label: \",label,\"probability: \", loaded_model.predict(face_crop)[0])\n",
    "    # display output\n",
    "    cv2.imshow(\"gender detection\", frame)\n",
    "\n",
    "    # press \"Q\" to stop\n",
    "    if cv2.waitKey(1) & 0xFF == ord('q'):\n",
    "        break\n",
    "\n",
    "# release resources\n",
    "webcam.release()\n",
    "cv2.destroyAllWindows()"
   ]
  },
  {
   "cell_type": "code",
   "execution_count": null,
   "metadata": {},
   "outputs": [],
   "source": []
  }
 ],
 "metadata": {
  "kernelspec": {
   "display_name": "Python 3",
   "language": "python",
   "name": "python3"
  },
  "language_info": {
   "codemirror_mode": {
    "name": "ipython",
    "version": 3
   },
   "file_extension": ".py",
   "mimetype": "text/x-python",
   "name": "python",
   "nbconvert_exporter": "python",
   "pygments_lexer": "ipython3",
   "version": "3.7.9"
  }
 },
 "nbformat": 4,
 "nbformat_minor": 4
}
